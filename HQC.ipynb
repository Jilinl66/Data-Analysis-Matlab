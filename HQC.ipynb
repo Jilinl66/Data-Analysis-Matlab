{
 "cells": [
  {
   "cell_type": "code",
   "execution_count": null,
   "metadata": {
    "collapsed": false
   },
   "outputs": [],
   "source": [
    "np.random.seed(100)\n",
    "random_rows = np.random.choice(train.index,10000)\n",
    "train_selected = train.iloc[random_rows]\n",
    "train_selected.to_csv('data/train_selected.csv',index=False)"
   ]
  },
  {
   "cell_type": "code",
   "execution_count": 10,
   "metadata": {
    "collapsed": true
   },
   "outputs": [],
   "source": [
    "def check_na(df):\n",
    "    ans = []\n",
    "    for k in df.keys():\n",
    "        if True in df[k].isnull().values:\n",
    "            ans.append(k)\n",
    "    return ans\n",
    "\n",
    "#na_of_train = check_na(train)\n",
    "#na_of_test = check_na(test)\n",
    "    "
   ]
  },
  {
   "cell_type": "code",
   "execution_count": null,
   "metadata": {
    "collapsed": false,
    "scrolled": true
   },
   "outputs": [],
   "source": [
    "na_of_train"
   ]
  },
  {
   "cell_type": "code",
   "execution_count": null,
   "metadata": {
    "collapsed": false,
    "scrolled": true
   },
   "outputs": [],
   "source": [
    "na_of_test"
   ]
  },
  {
   "cell_type": "code",
   "execution_count": null,
   "metadata": {
    "collapsed": false
   },
   "outputs": [],
   "source": [
    "%matplotlib"
   ]
  },
  {
   "cell_type": "code",
   "execution_count": null,
   "metadata": {
    "collapsed": false
   },
   "outputs": [],
   "source": [
    "important_feature = np.argsort(forest.feature_importances_)[::-1]\n",
    "labels = []\n",
    "num = []\n",
    "for i in important_feature:\n",
    "    labels.append(x.keys()[i])\n",
    "    num.append(forest.feature_importances_[i])"
   ]
  },
  {
   "cell_type": "code",
   "execution_count": null,
   "metadata": {
    "collapsed": false
   },
   "outputs": [],
   "source": [
    "for nn in num:\n",
    "    print nn\n",
    "for ll in labels:\n",
    "    print ll"
   ]
  },
  {
   "cell_type": "code",
   "execution_count": null,
   "metadata": {
    "collapsed": false
   },
   "outputs": [],
   "source": [
    "fig, ax = plt.subplots()\n",
    "#plt.bar(range(30),num[:30])\n",
    "ax.hist(num[:30], range(30),orientation='horizontal')\n",
    "#ax.set_xticklabels(labels[:30])\n",
    "ax.set_ylim([0, 30])\n",
    "\n",
    "\n",
    "plt.show()"
   ]
  },
  {
   "cell_type": "code",
   "execution_count": null,
   "metadata": {
    "collapsed": false
   },
   "outputs": [],
   "source": [
    "important_feature.sort()"
   ]
  },
  {
   "cell_type": "code",
   "execution_count": null,
   "metadata": {
    "collapsed": true
   },
   "outputs": [],
   "source": [
    "f = plt.figure()\n",
    "forest.feature_importances_\n",
    "plt.plot(range(1,271),forest.feature_importances_)\n",
    "plt.show()"
   ]
  },
  {
   "cell_type": "code",
   "execution_count": null,
   "metadata": {
    "collapsed": false
   },
   "outputs": [],
   "source": [
    "important_feature = np.argsort(forest.feature_importances_)[::-1]\n",
    "f = open('data/feature_importance.txt','w')\n",
    "for ind in important_feature:\n",
    "    print x.keys()[ind] + ': ' + str(forest.feature_importances_[ind])\n",
    "    print >> f, x.keys()[ind]\n"
   ]
  },
  {
   "cell_type": "code",
   "execution_count": null,
   "metadata": {
    "collapsed": false,
    "scrolled": true
   },
   "outputs": [],
   "source": [
    "from collections import OrderedDict\n",
    "from sklearn.datasets import make_classification\n",
    "from sklearn.ensemble import RandomForestClassifier, ExtraTreesClassifier\n",
    "RANDOM_STATE = 123\n",
    "\n",
    "# Generate a binary classification dataset.\n",
    "#X, y = make_classification(n_samples=500, n_features=25,\n",
    "#                           n_clusters_per_class=1, n_informative=15,\n",
    "#                           random_state=RANDOM_STATE)\n",
    "\n",
    "# NOTE: Setting the `warm_start` construction parameter to `True` disables\n",
    "# support for paralellised ensembles but is necessary for tracking the OOB\n",
    "# error trajectory during training.\n",
    "ensemble_clfs = [\n",
    "    (\"RandomForestClassifier, max_features='sqrt'\",\n",
    "        RandomForestClassifier(warm_start=True, oob_score=True,\n",
    "                               max_features=\"sqrt\",\n",
    "                               random_state=RANDOM_STATE)),\n",
    "    (\"RandomForestClassifier, max_features='log2'\",\n",
    "        RandomForestClassifier(warm_start=True, max_features='log2',\n",
    "                               oob_score=True,\n",
    "                               random_state=RANDOM_STATE)),\n",
    "    (\"RandomForestClassifier, max_features=None\",\n",
    "        RandomForestClassifier(warm_start=True, max_features=None,\n",
    "                               oob_score=True,\n",
    "                               random_state=RANDOM_STATE))\n",
    "]\n",
    "\n",
    "# Map a classifier name to a list of (<n_estimators>, <error rate>) pairs.\n",
    "error_rate = OrderedDict((label, []) for label, _ in ensemble_clfs)\n",
    "\n",
    "# Range of `n_estimators` values to explore.\n",
    "min_estimators = 15\n",
    "max_estimators = 175\n",
    "\n",
    "for label, clf in ensemble_clfs:\n",
    "    for i in range(min_estimators, max_estimators + 1):\n",
    "        clf.set_params(n_estimators=i)\n",
    "        clf.fit(np.array(x),np.array(y))\n",
    "\n",
    "        # Record the OOB error for each `n_estimators=i` setting.\n",
    "        oob_error = 1 - clf.oob_score_\n",
    "        error_rate[label].append((i, oob_error))\n",
    "\n",
    "# Generate the \"OOB error rate\" vs. \"n_estimators\" plot.\n",
    "for label, clf_err in error_rate.items():\n",
    "    xs, ys = zip(*clf_err)\n",
    "    plt.plot(xs, ys, label=label)\n",
    "\n",
    "plt.xlim(min_estimators, max_estimators)\n",
    "plt.xlabel(\"n_estimators\")\n",
    "plt.ylabel(\"OOB error rate\")\n",
    "plt.legend(loc=\"upper right\")\n",
    "plt.show()"
   ]
  },
  {
   "cell_type": "markdown",
   "metadata": {},
   "source": [
    "from sklearn.ensemble import RandomForestClassifier\n",
    "params = {'warm_start':True, 'oob_score':True}\n",
    "p = [{'max_features':'sqrt'},{'max_features':'log2'},{'max_features':None}]\n",
    "\n",
    "label= [\"max_features='sqrt'\",\"max_features='log2'\",\"max_features=None\"]\n",
    "num_of_estimator = range(300)[20:300:5]\n",
    "error = {x:[] for x in label}\n",
    "\n",
    "for i, l in enumerate(label):\n",
    "    for n in num_of_estimator:\n",
    "        p[i]['n_estimators']=n\n",
    "        params.update(p[i])\n",
    "        rf = RandomForestClassifier(**params)\n",
    "        rf.fit(np.array(x),np.array(y))\n",
    "        error[l].append(1 - rf.oob_score_)\n"
   ]
  },
  {
   "cell_type": "code",
   "execution_count": null,
   "metadata": {
    "collapsed": true
   },
   "outputs": [],
   "source": [
    "pd.DataFrame(error).to_csv('data/maxfeature_nestimator_oob.csv',index=False)"
   ]
  },
  {
   "cell_type": "code",
   "execution_count": null,
   "metadata": {
    "collapsed": false
   },
   "outputs": [],
   "source": [
    "for k in error.keys():\n",
    "    plt.plot(num_of_estimator, error[k], label=k)\n",
    "        \n",
    "plt.xlabel(\"n_estimators\")\n",
    "plt.ylabel(\"OOB error rate\")\n",
    "plt.legend(loc='best')\n",
    "#plt.show()\n",
    "plt.savefig('/Users/itbwtw/Documents/Courses/CompSci 273A Machine Learning/project/latex/figure/oob.eps')"
   ]
  },
  {
   "cell_type": "code",
   "execution_count": 23,
   "metadata": {
    "collapsed": false
   },
   "outputs": [
    {
     "name": "stdout",
     "output_type": "stream",
     "text": [
      "2\n",
      "3\n",
      "4\n",
      "5\n",
      "6\n",
      "7\n",
      "8\n",
      "9\n",
      "10\n",
      "11\n",
      "12\n",
      "13\n",
      "14\n",
      "15\n",
      "16\n",
      "17\n",
      "18\n",
      "19\n",
      "20\n",
      "21\n",
      "22\n",
      "23\n",
      "24\n",
      "25\n",
      "26\n",
      "27\n",
      "28\n",
      "29\n",
      "30\n",
      "31\n",
      "32\n",
      "33\n",
      "34\n",
      "35\n",
      "36\n",
      "37\n",
      "38\n",
      "39\n",
      "40\n",
      "41\n",
      "42\n",
      "43\n",
      "44\n",
      "45\n",
      "46\n",
      "47\n",
      "48\n",
      "49\n",
      "50\n",
      "51\n",
      "52\n",
      "53\n",
      "54\n",
      "55\n",
      "56\n",
      "57\n",
      "58\n",
      "59\n",
      "60\n",
      "61\n",
      "62\n",
      "63\n",
      "64\n",
      "65\n",
      "66\n",
      "67\n",
      "68\n",
      "69\n",
      "70\n",
      "71\n",
      "72\n",
      "73\n",
      "74\n",
      "75\n",
      "76\n",
      "77\n",
      "78\n",
      "79\n",
      "80\n",
      "81\n",
      "82\n",
      "83\n",
      "84\n",
      "85\n",
      "86\n",
      "87\n",
      "88\n",
      "89\n",
      "90\n",
      "91\n",
      "92\n",
      "93\n",
      "94\n",
      "95\n",
      "96\n",
      "97\n",
      "98\n",
      "99\n"
     ]
    }
   ],
   "source": [
    "f = open('data/feature_importance.txt','r')\n",
    "features = []\n",
    "scores = []\n",
    "for line in f:\n",
    "    features.append(line.strip())\n",
    "len(features)\n",
    "for ii in range(2,100):\n",
    "    rf = RandomForestClassifier(n_estimators = 100,oob_score=True)\n",
    "    rf = rf.fit(np.array(x[features[0:ii]]),np.array(y))\n",
    "    scores.append(rf.oob_score_)\n",
    "    print ii\n"
   ]
  },
  {
   "cell_type": "code",
   "execution_count": 21,
   "metadata": {
    "collapsed": false
   },
   "outputs": [
    {
     "data": {
      "text/plain": [
       "<matplotlib.text.Text at 0x10b92d1d0>"
      ]
     },
     "execution_count": 21,
     "metadata": {},
     "output_type": "execute_result"
    }
   ],
   "source": [
    "plt.figure()\n",
    "plt.plot(range(2,30),scores)\n",
    "plt.xlabel('Size of Feature Dimension')\n",
    "plt.ylabel('Area Under ROC curve')"
   ]
  },
  {
   "cell_type": "code",
   "execution_count": 22,
   "metadata": {
    "collapsed": true
   },
   "outputs": [],
   "source": [
    "plt.savefig('/Users/itbwtw/Documents/Courses/CompSci 273A Machine Learning/project/latex/figure/feat.eps')"
   ]
  },
  {
   "cell_type": "code",
   "execution_count": null,
   "metadata": {
    "collapsed": true
   },
   "outputs": [],
   "source": [
    "plt.show(1)"
   ]
  },
  {
   "cell_type": "code",
   "execution_count": null,
   "metadata": {
    "collapsed": false
   },
   "outputs": [],
   "source": [
    "plt.figure(2)\n",
    "plt.plot(range(2,21),scores)"
   ]
  },
  {
   "cell_type": "code",
   "execution_count": null,
   "metadata": {
    "collapsed": true
   },
   "outputs": [],
   "source": [
    "plt.show()"
   ]
  },
  {
   "cell_type": "code",
   "execution_count": 1,
   "metadata": {
    "collapsed": true
   },
   "outputs": [],
   "source": [
    "import numpy as np\n",
    "import pandas as pd\n",
    "import matplotlib.pyplot as plt"
   ]
  },
  {
   "cell_type": "code",
   "execution_count": 2,
   "metadata": {
    "collapsed": false,
    "scrolled": false
   },
   "outputs": [
    {
     "data": {
      "text/html": [
       "<div>\n",
       "<table border=\"1\" class=\"dataframe\">\n",
       "  <thead>\n",
       "    <tr style=\"text-align: right;\">\n",
       "      <th></th>\n",
       "      <th>QuoteNumber</th>\n",
       "      <th>Original_Quote_Date</th>\n",
       "      <th>QuoteConversion_Flag</th>\n",
       "      <th>Field6</th>\n",
       "      <th>Field7</th>\n",
       "      <th>Field8</th>\n",
       "      <th>Field9</th>\n",
       "      <th>Field10</th>\n",
       "      <th>Field11</th>\n",
       "      <th>Field12</th>\n",
       "      <th>...</th>\n",
       "      <th>GeographicField59A</th>\n",
       "      <th>GeographicField59B</th>\n",
       "      <th>GeographicField60A</th>\n",
       "      <th>GeographicField60B</th>\n",
       "      <th>GeographicField61A</th>\n",
       "      <th>GeographicField61B</th>\n",
       "      <th>GeographicField62A</th>\n",
       "      <th>GeographicField62B</th>\n",
       "      <th>GeographicField63</th>\n",
       "      <th>GeographicField64</th>\n",
       "    </tr>\n",
       "  </thead>\n",
       "  <tbody>\n",
       "    <tr>\n",
       "      <th>0</th>\n",
       "      <td>63850</td>\n",
       "      <td>2013-07-29</td>\n",
       "      <td>0</td>\n",
       "      <td>B</td>\n",
       "      <td>24</td>\n",
       "      <td>0.9403</td>\n",
       "      <td>0.0006</td>\n",
       "      <td>965</td>\n",
       "      <td>1.0200</td>\n",
       "      <td>N</td>\n",
       "      <td>...</td>\n",
       "      <td>19</td>\n",
       "      <td>23</td>\n",
       "      <td>-1</td>\n",
       "      <td>20</td>\n",
       "      <td>-1</td>\n",
       "      <td>14</td>\n",
       "      <td>-1</td>\n",
       "      <td>8</td>\n",
       "      <td>N</td>\n",
       "      <td>CA</td>\n",
       "    </tr>\n",
       "    <tr>\n",
       "      <th>1</th>\n",
       "      <td>93374</td>\n",
       "      <td>2014-07-01</td>\n",
       "      <td>0</td>\n",
       "      <td>E</td>\n",
       "      <td>16</td>\n",
       "      <td>0.9392</td>\n",
       "      <td>0.0006</td>\n",
       "      <td>1,487</td>\n",
       "      <td>1.3045</td>\n",
       "      <td>N</td>\n",
       "      <td>...</td>\n",
       "      <td>25</td>\n",
       "      <td>25</td>\n",
       "      <td>-1</td>\n",
       "      <td>15</td>\n",
       "      <td>-1</td>\n",
       "      <td>5</td>\n",
       "      <td>-1</td>\n",
       "      <td>25</td>\n",
       "      <td>N</td>\n",
       "      <td>IL</td>\n",
       "    </tr>\n",
       "    <tr>\n",
       "      <th>2</th>\n",
       "      <td>351241</td>\n",
       "      <td>2014-10-27</td>\n",
       "      <td>1</td>\n",
       "      <td>E</td>\n",
       "      <td>16</td>\n",
       "      <td>0.9108</td>\n",
       "      <td>0.0006</td>\n",
       "      <td>1,487</td>\n",
       "      <td>1.3045</td>\n",
       "      <td>N</td>\n",
       "      <td>...</td>\n",
       "      <td>15</td>\n",
       "      <td>18</td>\n",
       "      <td>-1</td>\n",
       "      <td>11</td>\n",
       "      <td>-1</td>\n",
       "      <td>20</td>\n",
       "      <td>-1</td>\n",
       "      <td>21</td>\n",
       "      <td>N</td>\n",
       "      <td>IL</td>\n",
       "    </tr>\n",
       "    <tr>\n",
       "      <th>3</th>\n",
       "      <td>422808</td>\n",
       "      <td>2014-04-16</td>\n",
       "      <td>0</td>\n",
       "      <td>B</td>\n",
       "      <td>23</td>\n",
       "      <td>0.9153</td>\n",
       "      <td>0.0007</td>\n",
       "      <td>935</td>\n",
       "      <td>1.0200</td>\n",
       "      <td>N</td>\n",
       "      <td>...</td>\n",
       "      <td>15</td>\n",
       "      <td>19</td>\n",
       "      <td>-1</td>\n",
       "      <td>16</td>\n",
       "      <td>-1</td>\n",
       "      <td>19</td>\n",
       "      <td>-1</td>\n",
       "      <td>14</td>\n",
       "      <td>N</td>\n",
       "      <td>CA</td>\n",
       "    </tr>\n",
       "    <tr>\n",
       "      <th>4</th>\n",
       "      <td>129368</td>\n",
       "      <td>2013-08-09</td>\n",
       "      <td>0</td>\n",
       "      <td>B</td>\n",
       "      <td>24</td>\n",
       "      <td>0.9403</td>\n",
       "      <td>0.0006</td>\n",
       "      <td>965</td>\n",
       "      <td>1.0200</td>\n",
       "      <td>N</td>\n",
       "      <td>...</td>\n",
       "      <td>25</td>\n",
       "      <td>25</td>\n",
       "      <td>-1</td>\n",
       "      <td>12</td>\n",
       "      <td>-1</td>\n",
       "      <td>20</td>\n",
       "      <td>-1</td>\n",
       "      <td>8</td>\n",
       "      <td>N</td>\n",
       "      <td>CA</td>\n",
       "    </tr>\n",
       "  </tbody>\n",
       "</table>\n",
       "<p>5 rows × 299 columns</p>\n",
       "</div>"
      ],
      "text/plain": [
       "   QuoteNumber Original_Quote_Date  QuoteConversion_Flag Field6  Field7  \\\n",
       "0        63850          2013-07-29                     0      B      24   \n",
       "1        93374          2014-07-01                     0      E      16   \n",
       "2       351241          2014-10-27                     1      E      16   \n",
       "3       422808          2014-04-16                     0      B      23   \n",
       "4       129368          2013-08-09                     0      B      24   \n",
       "\n",
       "   Field8  Field9 Field10  Field11 Field12        ...          \\\n",
       "0  0.9403  0.0006     965   1.0200       N        ...           \n",
       "1  0.9392  0.0006   1,487   1.3045       N        ...           \n",
       "2  0.9108  0.0006   1,487   1.3045       N        ...           \n",
       "3  0.9153  0.0007     935   1.0200       N        ...           \n",
       "4  0.9403  0.0006     965   1.0200       N        ...           \n",
       "\n",
       "   GeographicField59A  GeographicField59B  GeographicField60A  \\\n",
       "0                  19                  23                  -1   \n",
       "1                  25                  25                  -1   \n",
       "2                  15                  18                  -1   \n",
       "3                  15                  19                  -1   \n",
       "4                  25                  25                  -1   \n",
       "\n",
       "   GeographicField60B  GeographicField61A  GeographicField61B  \\\n",
       "0                  20                  -1                  14   \n",
       "1                  15                  -1                   5   \n",
       "2                  11                  -1                  20   \n",
       "3                  16                  -1                  19   \n",
       "4                  12                  -1                  20   \n",
       "\n",
       "   GeographicField62A  GeographicField62B  GeographicField63  \\\n",
       "0                  -1                   8                  N   \n",
       "1                  -1                  25                  N   \n",
       "2                  -1                  21                  N   \n",
       "3                  -1                  14                  N   \n",
       "4                  -1                   8                  N   \n",
       "\n",
       "   GeographicField64  \n",
       "0                 CA  \n",
       "1                 IL  \n",
       "2                 IL  \n",
       "3                 CA  \n",
       "4                 CA  \n",
       "\n",
       "[5 rows x 299 columns]"
      ]
     },
     "execution_count": 2,
     "metadata": {},
     "output_type": "execute_result"
    }
   ],
   "source": [
    "train_file = 'data/train_selected.csv'\n",
    "test_file = 'data/test.csv'\n",
    "train = pd.read_csv(train_file)\n",
    "test = pd.read_csv(test_file)\n",
    "train.head()"
   ]
  },
  {
   "cell_type": "code",
   "execution_count": 3,
   "metadata": {
    "collapsed": false,
    "scrolled": true
   },
   "outputs": [
    {
     "data": {
      "text/html": [
       "<div>\n",
       "<table border=\"1\" class=\"dataframe\">\n",
       "  <thead>\n",
       "    <tr style=\"text-align: right;\">\n",
       "      <th></th>\n",
       "      <th>Original_Quote_Date</th>\n",
       "      <th>Field6</th>\n",
       "      <th>Field10</th>\n",
       "      <th>Field12</th>\n",
       "      <th>CoverageField8</th>\n",
       "      <th>CoverageField9</th>\n",
       "      <th>SalesField7</th>\n",
       "      <th>PersonalField7</th>\n",
       "      <th>PersonalField16</th>\n",
       "      <th>PersonalField17</th>\n",
       "      <th>...</th>\n",
       "      <th>PropertyField30</th>\n",
       "      <th>PropertyField31</th>\n",
       "      <th>PropertyField32</th>\n",
       "      <th>PropertyField33</th>\n",
       "      <th>PropertyField34</th>\n",
       "      <th>PropertyField36</th>\n",
       "      <th>PropertyField37</th>\n",
       "      <th>PropertyField38</th>\n",
       "      <th>GeographicField63</th>\n",
       "      <th>GeographicField64</th>\n",
       "    </tr>\n",
       "  </thead>\n",
       "  <tbody>\n",
       "    <tr>\n",
       "      <th>0</th>\n",
       "      <td>2013-07-29</td>\n",
       "      <td>B</td>\n",
       "      <td>965</td>\n",
       "      <td>N</td>\n",
       "      <td>T</td>\n",
       "      <td>J</td>\n",
       "      <td>K</td>\n",
       "      <td>N</td>\n",
       "      <td>ZA</td>\n",
       "      <td>ZE</td>\n",
       "      <td>...</td>\n",
       "      <td>N</td>\n",
       "      <td>O</td>\n",
       "      <td>Y</td>\n",
       "      <td>H</td>\n",
       "      <td>N</td>\n",
       "      <td>N</td>\n",
       "      <td>N</td>\n",
       "      <td>N</td>\n",
       "      <td>N</td>\n",
       "      <td>CA</td>\n",
       "    </tr>\n",
       "    <tr>\n",
       "      <th>1</th>\n",
       "      <td>2014-07-01</td>\n",
       "      <td>E</td>\n",
       "      <td>1,487</td>\n",
       "      <td>N</td>\n",
       "      <td>Y</td>\n",
       "      <td>A</td>\n",
       "      <td>P</td>\n",
       "      <td>N</td>\n",
       "      <td>XB</td>\n",
       "      <td>XH</td>\n",
       "      <td>...</td>\n",
       "      <td>N</td>\n",
       "      <td>O</td>\n",
       "      <td>Y</td>\n",
       "      <td>H</td>\n",
       "      <td>Y</td>\n",
       "      <td>N</td>\n",
       "      <td>N</td>\n",
       "      <td>N</td>\n",
       "      <td>N</td>\n",
       "      <td>IL</td>\n",
       "    </tr>\n",
       "    <tr>\n",
       "      <th>2</th>\n",
       "      <td>2014-10-27</td>\n",
       "      <td>E</td>\n",
       "      <td>1,487</td>\n",
       "      <td>N</td>\n",
       "      <td>T</td>\n",
       "      <td>A</td>\n",
       "      <td>K</td>\n",
       "      <td>N</td>\n",
       "      <td>XS</td>\n",
       "      <td>XG</td>\n",
       "      <td>...</td>\n",
       "      <td>N</td>\n",
       "      <td>O</td>\n",
       "      <td>Y</td>\n",
       "      <td>H</td>\n",
       "      <td>Y</td>\n",
       "      <td>N</td>\n",
       "      <td>N</td>\n",
       "      <td>N</td>\n",
       "      <td>N</td>\n",
       "      <td>IL</td>\n",
       "    </tr>\n",
       "    <tr>\n",
       "      <th>3</th>\n",
       "      <td>2014-04-16</td>\n",
       "      <td>B</td>\n",
       "      <td>935</td>\n",
       "      <td>N</td>\n",
       "      <td>Y</td>\n",
       "      <td>D</td>\n",
       "      <td>T</td>\n",
       "      <td>N</td>\n",
       "      <td>ZA</td>\n",
       "      <td>ZE</td>\n",
       "      <td>...</td>\n",
       "      <td>N</td>\n",
       "      <td>O</td>\n",
       "      <td>Y</td>\n",
       "      <td>H</td>\n",
       "      <td>Y</td>\n",
       "      <td>N</td>\n",
       "      <td>N</td>\n",
       "      <td>N</td>\n",
       "      <td>N</td>\n",
       "      <td>CA</td>\n",
       "    </tr>\n",
       "    <tr>\n",
       "      <th>4</th>\n",
       "      <td>2013-08-09</td>\n",
       "      <td>B</td>\n",
       "      <td>965</td>\n",
       "      <td>N</td>\n",
       "      <td>T</td>\n",
       "      <td>D</td>\n",
       "      <td>V</td>\n",
       "      <td>N</td>\n",
       "      <td>ZA</td>\n",
       "      <td>ZE</td>\n",
       "      <td>...</td>\n",
       "      <td>N</td>\n",
       "      <td>N</td>\n",
       "      <td>Y</td>\n",
       "      <td>G</td>\n",
       "      <td>Y</td>\n",
       "      <td>N</td>\n",
       "      <td>N</td>\n",
       "      <td>Y</td>\n",
       "      <td>N</td>\n",
       "      <td>CA</td>\n",
       "    </tr>\n",
       "  </tbody>\n",
       "</table>\n",
       "<p>5 rows × 28 columns</p>\n",
       "</div>"
      ],
      "text/plain": [
       "  Original_Quote_Date Field6 Field10 Field12 CoverageField8 CoverageField9  \\\n",
       "0          2013-07-29      B     965       N              T              J   \n",
       "1          2014-07-01      E   1,487       N              Y              A   \n",
       "2          2014-10-27      E   1,487       N              T              A   \n",
       "3          2014-04-16      B     935       N              Y              D   \n",
       "4          2013-08-09      B     965       N              T              D   \n",
       "\n",
       "  SalesField7 PersonalField7 PersonalField16 PersonalField17  \\\n",
       "0           K              N              ZA              ZE   \n",
       "1           P              N              XB              XH   \n",
       "2           K              N              XS              XG   \n",
       "3           T              N              ZA              ZE   \n",
       "4           V              N              ZA              ZE   \n",
       "\n",
       "         ...        PropertyField30 PropertyField31 PropertyField32  \\\n",
       "0        ...                      N               O               Y   \n",
       "1        ...                      N               O               Y   \n",
       "2        ...                      N               O               Y   \n",
       "3        ...                      N               O               Y   \n",
       "4        ...                      N               N               Y   \n",
       "\n",
       "  PropertyField33 PropertyField34 PropertyField36 PropertyField37  \\\n",
       "0               H               N               N               N   \n",
       "1               H               Y               N               N   \n",
       "2               H               Y               N               N   \n",
       "3               H               Y               N               N   \n",
       "4               G               Y               N               N   \n",
       "\n",
       "  PropertyField38 GeographicField63 GeographicField64  \n",
       "0               N                 N                CA  \n",
       "1               N                 N                IL  \n",
       "2               N                 N                IL  \n",
       "3               N                 N                CA  \n",
       "4               Y                 N                CA  \n",
       "\n",
       "[5 rows x 28 columns]"
      ]
     },
     "execution_count": 3,
     "metadata": {},
     "output_type": "execute_result"
    }
   ],
   "source": [
    "keys = train.keys()\n",
    "dtype = train.dtypes\n",
    "not_number = []\n",
    "i = 0\n",
    "for k in keys:\n",
    "    if (str(dtype[i]) != 'float64') & (str(dtype[i]) != 'int64'):\n",
    "        not_number.append(k)\n",
    "    i+=1\n",
    "train[not_number].head()"
   ]
  },
  {
   "cell_type": "code",
   "execution_count": 4,
   "metadata": {
    "collapsed": false
   },
   "outputs": [
    {
     "data": {
      "text/plain": [
       "'Field10'"
      ]
     },
     "execution_count": 4,
     "metadata": {},
     "output_type": "execute_result"
    }
   ],
   "source": [
    "not_number.pop(not_number.index('Original_Quote_Date'))\n",
    "not_number.pop(not_number.index('Field10'))"
   ]
  },
  {
   "cell_type": "code",
   "execution_count": 5,
   "metadata": {
    "collapsed": false,
    "scrolled": true
   },
   "outputs": [],
   "source": [
    "from sklearn import preprocessing\n",
    "\n",
    "for k in not_number:\n",
    "    lbl = preprocessing.LabelEncoder()\n",
    "    lbl.fit(np.unique(list(train[k].values) + list(test[k].values)))\n",
    "    train[k] = lbl.transform(list(train[k].values))\n",
    "    test[k] = lbl.transform(list(test[k].values))"
   ]
  },
  {
   "cell_type": "code",
   "execution_count": 6,
   "metadata": {
    "collapsed": false
   },
   "outputs": [],
   "source": [
    "def convert_date(df):\n",
    "    df['year'] = df['Original_Quote_Date'].apply(lambda x : x[0:4]).astype('int')\n",
    "    df['month'] = df['Original_Quote_Date'].apply(lambda x : x[5:7]).astype('int')\n",
    "    df['day'] = df['Original_Quote_Date'].apply(lambda x : x[8:]).astype('int')\n",
    "def convert_field10(df):\n",
    "    df['Field10'] = df['Field10'].apply(lambda x: str(x).replace(',','')).astype('int')\n",
    "def fill_PersonalField84(df):\n",
    "    df.loc[df['PersonalField84'].isnull(),'PersonalField84'] = 2\n",
    "def fill_PropertyField29(df):\n",
    "    df.loc[df['PropertyField29'].isnull(),'PropertyField29'] = df['PropertyField29'].mean()\n"
   ]
  },
  {
   "cell_type": "code",
   "execution_count": 11,
   "metadata": {
    "collapsed": false,
    "scrolled": true
   },
   "outputs": [
    {
     "name": "stdout",
     "output_type": "stream",
     "text": [
      "['PersonalField84', 'PropertyField29'] ['PersonalField84', 'PropertyField29']\n",
      "(10000, 300) (173836, 300)\n"
     ]
    }
   ],
   "source": [
    "convert_date(train)\n",
    "convert_field10(train)\n",
    "convert_date(test)\n",
    "convert_field10(test)\n",
    "y = train['QuoteConversion_Flag']\n",
    "x = train.select_dtypes(include = ['int16', 'int32', 'int64', 'float16', 'float32', 'float64'])\n",
    "xt = test.select_dtypes(include = ['int16', 'int32', 'int64', 'float16', 'float32', 'float64'])\n",
    "x = x.drop('QuoteConversion_Flag',axis= 1)\n",
    "print check_na(x), check_na(xt)\n",
    "print x.shape, xt.shape"
   ]
  },
  {
   "cell_type": "code",
   "execution_count": 12,
   "metadata": {
    "collapsed": false
   },
   "outputs": [
    {
     "name": "stderr",
     "output_type": "stream",
     "text": [
      "/Users/itbwtw/anaconda/lib/python2.7/site-packages/pandas/core/indexing.py:415: SettingWithCopyWarning: \n",
      "A value is trying to be set on a copy of a slice from a DataFrame.\n",
      "Try using .loc[row_indexer,col_indexer] = value instead\n",
      "\n",
      "See the the caveats in the documentation: http://pandas.pydata.org/pandas-docs/stable/indexing.html#indexing-view-versus-copy\n",
      "  self.obj[item] = s\n"
     ]
    }
   ],
   "source": [
    "fill_PersonalField84(x)\n",
    "fill_PersonalField84(xt)\n",
    "fill_PropertyField29(x)\n",
    "fill_PropertyField29(xt)"
   ]
  },
  {
   "cell_type": "code",
   "execution_count": null,
   "metadata": {
    "collapsed": false
   },
   "outputs": [],
   "source": [
    "selected_feature = []\n",
    "f = open('data/feature_importance.txt', 'r')\n",
    "i = 0\n",
    "for line in f:\n",
    "    if i >= 22:\n",
    "        break\n",
    "    else:\n",
    "        i+=1\n",
    "    selected_feature.append(line.strip())\n",
    "\n",
    "x = x[selected_feature]"
   ]
  },
  {
   "cell_type": "code",
   "execution_count": 13,
   "metadata": {
    "collapsed": false
   },
   "outputs": [],
   "source": [
    "from sklearn.ensemble import RandomForestClassifier\n",
    "forest = RandomForestClassifier(n_estimators = 100,oob_score=True)\n",
    "forest = forest.fit(np.array(x),np.array(y))"
   ]
  },
  {
   "cell_type": "code",
   "execution_count": null,
   "metadata": {
    "collapsed": false
   },
   "outputs": [],
   "source": [
    "forest.oob_score_ #300"
   ]
  },
  {
   "cell_type": "code",
   "execution_count": null,
   "metadata": {
    "collapsed": false
   },
   "outputs": [],
   "source": [
    "yhat = forest.predict_proba(np.array(xt))"
   ]
  },
  {
   "cell_type": "code",
   "execution_count": null,
   "metadata": {
    "collapsed": false,
    "scrolled": true
   },
   "outputs": [],
   "source": [
    "yhat = yhat[:,1]"
   ]
  },
  {
   "cell_type": "code",
   "execution_count": null,
   "metadata": {
    "collapsed": false
   },
   "outputs": [],
   "source": [
    "from sklearn import ensemble\n",
    "params = {'n_estimators': 10, 'max_leaf_nodes': 4, 'max_depth': None, 'random_state': 2,\n",
    "          'min_samples_split': 5, 'learning_rate': 0.1, 'subsample': 0.5}\n",
    "gb = ensemble.GradientBoostingClassifier(**params)\n",
    "gb.fit(x, y)"
   ]
  },
  {
   "cell_type": "code",
   "execution_count": null,
   "metadata": {
    "collapsed": true
   },
   "outputs": [],
   "source": [
    "yhat = gb.predict_proba(xt)"
   ]
  },
  {
   "cell_type": "code",
   "execution_count": null,
   "metadata": {
    "collapsed": false
   },
   "outputs": [],
   "source": [
    "result_data = {'QuoteNumber':xt['QuoteNumber'],'QuoteConversion_Flag':yhat[:,1]}"
   ]
  },
  {
   "cell_type": "code",
   "execution_count": null,
   "metadata": {
    "collapsed": true
   },
   "outputs": [],
   "source": [
    "result = pd.DataFrame(result_data,columns=('QuoteNumber','QuoteConversion_Flag'))"
   ]
  },
  {
   "cell_type": "code",
   "execution_count": null,
   "metadata": {
    "collapsed": true
   },
   "outputs": [],
   "source": [
    "result.to_csv('data/result.csv',index=False)"
   ]
  },
  {
   "cell_type": "code",
   "execution_count": null,
   "metadata": {
    "collapsed": true
   },
   "outputs": [],
   "source": [
    "from sklearn.metrics import roc_curve\n",
    "from sklearn.pipeline import make_pipeline\n",
    "from sklearn import linear_model"
   ]
  },
  {
   "cell_type": "code",
   "execution_count": null,
   "metadata": {
    "collapsed": true
   },
   "outputs": [],
   "source": [
    "grd = ensemble.GradientBoostingClassifier(n_estimators=10)"
   ]
  },
  {
   "cell_type": "code",
   "execution_count": null,
   "metadata": {
    "collapsed": false
   },
   "outputs": [],
   "source": [
    "grd_enc = preprocessing.OneHotEncoder()"
   ]
  },
  {
   "cell_type": "code",
   "execution_count": null,
   "metadata": {
    "collapsed": false
   },
   "outputs": [],
   "source": [
    "grd_lm = linear_model.LogisticRegression()"
   ]
  },
  {
   "cell_type": "code",
   "execution_count": null,
   "metadata": {
    "collapsed": false,
    "scrolled": true
   },
   "outputs": [],
   "source": [
    "grd.fit(x, y)"
   ]
  },
  {
   "cell_type": "code",
   "execution_count": null,
   "metadata": {
    "collapsed": false,
    "scrolled": true
   },
   "outputs": [],
   "source": [
    "grd_enc.fit(gb.apply(x)[:, :, 0])"
   ]
  },
  {
   "cell_type": "code",
   "execution_count": null,
   "metadata": {
    "collapsed": false
   },
   "outputs": [],
   "source": [
    "grd_lm.fit(grd_enc.transform(gb.apply(x)[:, :, 0]), y)"
   ]
  },
  {
   "cell_type": "code",
   "execution_count": null,
   "metadata": {
    "collapsed": false
   },
   "outputs": [],
   "source": [
    "y_pred_grd_lm = grd_lm.predict_proba(grd_enc.transform(gb.apply(xt)[:, :, 0]))[:, 1]\n"
   ]
  },
  {
   "cell_type": "code",
   "execution_count": null,
   "metadata": {
    "collapsed": false
   },
   "outputs": [],
   "source": [
    "fpr_grd_lm, tpr_grd_lm, _ = roc_curve(y, y_pred_grd_lm)"
   ]
  },
  {
   "cell_type": "code",
   "execution_count": null,
   "metadata": {
    "collapsed": true
   },
   "outputs": [],
   "source": []
  }
 ],
 "metadata": {
  "kernelspec": {
   "display_name": "Python 2",
   "language": "python",
   "name": "python2"
  },
  "language_info": {
   "codemirror_mode": {
    "name": "ipython",
    "version": 2
   },
   "file_extension": ".py",
   "mimetype": "text/x-python",
   "name": "python",
   "nbconvert_exporter": "python",
   "pygments_lexer": "ipython2",
   "version": "2.7.10"
  }
 },
 "nbformat": 4,
 "nbformat_minor": 0
}
