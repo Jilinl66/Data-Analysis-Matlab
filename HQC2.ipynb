{
 "cells": [
  {
   "cell_type": "code",
   "execution_count": 1,
   "metadata": {
    "collapsed": false
   },
   "outputs": [],
   "source": [
    "import numpy as np\n",
    "import pandas as pd\n",
    "import matplotlib.pyplot as plt\n",
    "from sklearn.linear_model import LogisticRegression\n",
    "from sklearn.ensemble import GradientBoostingClassifier\n",
    "from sklearn.ensemble import RandomForestClassifier\n",
    "from sklearn import preprocessing\n",
    "from sklearn.cross_validation import train_test_split\n",
    "from sklearn.metrics import roc_curve"
   ]
  },
  {
   "cell_type": "code",
   "execution_count": null,
   "metadata": {
    "collapsed": false
   },
   "outputs": [],
   "source": [
    "%matplotlib"
   ]
  },
  {
   "cell_type": "code",
   "execution_count": 2,
   "metadata": {
    "collapsed": true
   },
   "outputs": [],
   "source": [
    "def convert_date(df):\n",
    "    df['year'] = df['Original_Quote_Date'].apply(lambda x: x[0:4]).astype('int')\n",
    "    df['month'] = df['Original_Quote_Date'].apply(lambda x: x[5:7]).astype('int')\n",
    "    df['day'] = df['Original_Quote_Date'].apply(lambda x: x[8:]).astype('int')\n",
    "\n",
    "\n",
    "def convert_field10(df):\n",
    "    df['Field10'] = df['Field10'].apply(lambda x: str(x).replace(',', '')).astype('int')\n",
    "\n",
    "\n",
    "def fill_PersonalField84(df):\n",
    "    df.loc[df['PersonalField84'].isnull(), 'PersonalField84'] = 2\n",
    "\n",
    "\n",
    "def fill_PropertyField29(df):\n",
    "    df.loc[df['PropertyField29'].isnull(), 'PropertyField29'] = df['PropertyField29'].mean()\n",
    "\n",
    "\n",
    "def beat_over_fitting(selected_feature):\n",
    "    f = open('data/feature_importance.txt', 'r')\n",
    "    sample_size = 0\n",
    "    for line in f:\n",
    "        sample_size += 1\n",
    "        selected_feature.append(line.strip())\n",
    "    return selected_feature\n",
    "\n",
    "\n",
    "def check_na(df):\n",
    "    ans = []\n",
    "    for k in df.keys():\n",
    "        if True in df[k].isnull().values:\n",
    "            ans.append(k)\n",
    "    return ans"
   ]
  },
  {
   "cell_type": "code",
   "execution_count": 9,
   "metadata": {
    "collapsed": false
   },
   "outputs": [],
   "source": [
    "train_file = 'data/train.csv'\n",
    "test_file = 'data/test.csv'\n",
    "train = pd.read_csv(train_file)\n",
    "test = pd.read_csv(test_file)"
   ]
  },
  {
   "cell_type": "code",
   "execution_count": 10,
   "metadata": {
    "collapsed": false,
    "scrolled": true
   },
   "outputs": [
    {
     "data": {
      "text/html": [
       "<div>\n",
       "<table border=\"1\" class=\"dataframe\">\n",
       "  <thead>\n",
       "    <tr style=\"text-align: right;\">\n",
       "      <th></th>\n",
       "      <th>Field6</th>\n",
       "      <th>Field12</th>\n",
       "      <th>CoverageField8</th>\n",
       "      <th>CoverageField9</th>\n",
       "      <th>SalesField7</th>\n",
       "      <th>PersonalField7</th>\n",
       "      <th>PersonalField16</th>\n",
       "      <th>PersonalField17</th>\n",
       "      <th>PersonalField18</th>\n",
       "      <th>PersonalField19</th>\n",
       "      <th>...</th>\n",
       "      <th>PropertyField30</th>\n",
       "      <th>PropertyField31</th>\n",
       "      <th>PropertyField32</th>\n",
       "      <th>PropertyField33</th>\n",
       "      <th>PropertyField34</th>\n",
       "      <th>PropertyField36</th>\n",
       "      <th>PropertyField37</th>\n",
       "      <th>PropertyField38</th>\n",
       "      <th>GeographicField63</th>\n",
       "      <th>GeographicField64</th>\n",
       "    </tr>\n",
       "  </thead>\n",
       "  <tbody>\n",
       "    <tr>\n",
       "      <th>0</th>\n",
       "      <td>B</td>\n",
       "      <td>N</td>\n",
       "      <td>T</td>\n",
       "      <td>D</td>\n",
       "      <td>V</td>\n",
       "      <td>N</td>\n",
       "      <td>ZA</td>\n",
       "      <td>ZE</td>\n",
       "      <td>XR</td>\n",
       "      <td>XD</td>\n",
       "      <td>...</td>\n",
       "      <td>N</td>\n",
       "      <td>N</td>\n",
       "      <td>Y</td>\n",
       "      <td>G</td>\n",
       "      <td>Y</td>\n",
       "      <td>N</td>\n",
       "      <td>N</td>\n",
       "      <td>N</td>\n",
       "      <td>N</td>\n",
       "      <td>CA</td>\n",
       "    </tr>\n",
       "    <tr>\n",
       "      <th>1</th>\n",
       "      <td>F</td>\n",
       "      <td>N</td>\n",
       "      <td>T</td>\n",
       "      <td>E</td>\n",
       "      <td>P</td>\n",
       "      <td>N</td>\n",
       "      <td>XB</td>\n",
       "      <td>YJ</td>\n",
       "      <td>YE</td>\n",
       "      <td>XT</td>\n",
       "      <td>...</td>\n",
       "      <td>N</td>\n",
       "      <td>O</td>\n",
       "      <td>N</td>\n",
       "      <td>H</td>\n",
       "      <td>Y</td>\n",
       "      <td>N</td>\n",
       "      <td>N</td>\n",
       "      <td>N</td>\n",
       "      <td>N</td>\n",
       "      <td>NJ</td>\n",
       "    </tr>\n",
       "    <tr>\n",
       "      <th>2</th>\n",
       "      <td>F</td>\n",
       "      <td>N</td>\n",
       "      <td>T</td>\n",
       "      <td>J</td>\n",
       "      <td>K</td>\n",
       "      <td>N</td>\n",
       "      <td>ZH</td>\n",
       "      <td>XS</td>\n",
       "      <td>YP</td>\n",
       "      <td>XC</td>\n",
       "      <td>...</td>\n",
       "      <td>N</td>\n",
       "      <td>K</td>\n",
       "      <td>Y</td>\n",
       "      <td>H</td>\n",
       "      <td>Y</td>\n",
       "      <td>N</td>\n",
       "      <td>N</td>\n",
       "      <td>N</td>\n",
       "      <td>N</td>\n",
       "      <td>NJ</td>\n",
       "    </tr>\n",
       "    <tr>\n",
       "      <th>3</th>\n",
       "      <td>J</td>\n",
       "      <td>N</td>\n",
       "      <td>Y</td>\n",
       "      <td>F</td>\n",
       "      <td>V</td>\n",
       "      <td>N</td>\n",
       "      <td>XO</td>\n",
       "      <td>XE</td>\n",
       "      <td>YI</td>\n",
       "      <td>XX</td>\n",
       "      <td>...</td>\n",
       "      <td>N</td>\n",
       "      <td>O</td>\n",
       "      <td>Y</td>\n",
       "      <td>G</td>\n",
       "      <td>N</td>\n",
       "      <td>N</td>\n",
       "      <td>Y</td>\n",
       "      <td>N</td>\n",
       "      <td>N</td>\n",
       "      <td>TX</td>\n",
       "    </tr>\n",
       "    <tr>\n",
       "      <th>4</th>\n",
       "      <td>E</td>\n",
       "      <td>N</td>\n",
       "      <td>T</td>\n",
       "      <td>F</td>\n",
       "      <td>R</td>\n",
       "      <td>N</td>\n",
       "      <td>ZA</td>\n",
       "      <td>ZE</td>\n",
       "      <td>XR</td>\n",
       "      <td>XD</td>\n",
       "      <td>...</td>\n",
       "      <td>N</td>\n",
       "      <td>O</td>\n",
       "      <td>N</td>\n",
       "      <td>H</td>\n",
       "      <td>N</td>\n",
       "      <td>N</td>\n",
       "      <td>N</td>\n",
       "      <td>N</td>\n",
       "      <td>N</td>\n",
       "      <td>IL</td>\n",
       "    </tr>\n",
       "  </tbody>\n",
       "</table>\n",
       "<p>5 rows × 26 columns</p>\n",
       "</div>"
      ],
      "text/plain": [
       "  Field6 Field12 CoverageField8 CoverageField9 SalesField7 PersonalField7  \\\n",
       "0      B       N              T              D           V              N   \n",
       "1      F       N              T              E           P              N   \n",
       "2      F       N              T              J           K              N   \n",
       "3      J       N              Y              F           V              N   \n",
       "4      E       N              T              F           R              N   \n",
       "\n",
       "  PersonalField16 PersonalField17 PersonalField18 PersonalField19  \\\n",
       "0              ZA              ZE              XR              XD   \n",
       "1              XB              YJ              YE              XT   \n",
       "2              ZH              XS              YP              XC   \n",
       "3              XO              XE              YI              XX   \n",
       "4              ZA              ZE              XR              XD   \n",
       "\n",
       "         ...        PropertyField30 PropertyField31 PropertyField32  \\\n",
       "0        ...                      N               N               Y   \n",
       "1        ...                      N               O               N   \n",
       "2        ...                      N               K               Y   \n",
       "3        ...                      N               O               Y   \n",
       "4        ...                      N               O               N   \n",
       "\n",
       "  PropertyField33 PropertyField34 PropertyField36 PropertyField37  \\\n",
       "0               G               Y               N               N   \n",
       "1               H               Y               N               N   \n",
       "2               H               Y               N               N   \n",
       "3               G               N               N               Y   \n",
       "4               H               N               N               N   \n",
       "\n",
       "  PropertyField38 GeographicField63 GeographicField64  \n",
       "0               N                 N                CA  \n",
       "1               N                 N                NJ  \n",
       "2               N                 N                NJ  \n",
       "3               N                 N                TX  \n",
       "4               N                 N                IL  \n",
       "\n",
       "[5 rows x 26 columns]"
      ]
     },
     "execution_count": 10,
     "metadata": {},
     "output_type": "execute_result"
    }
   ],
   "source": [
    "dtype = train.dtypes\n",
    "not_number = []\n",
    "for i, k in enumerate(train.keys()):\n",
    "    if (str(dtype[i]) != 'float64') & (str(dtype[i]) != 'int64'):\n",
    "        not_number.append(k)\n",
    "\n",
    "not_number.pop(not_number.index('Original_Quote_Date'))\n",
    "not_number.pop(not_number.index('Field10'))\n",
    "train[not_number].head()"
   ]
  },
  {
   "cell_type": "code",
   "execution_count": 11,
   "metadata": {
    "collapsed": false
   },
   "outputs": [],
   "source": [
    "for k in not_number:\n",
    "    lbl = preprocessing.LabelEncoder()\n",
    "    lbl.fit(np.unique(list(train[k].values) + list(test[k].values)))\n",
    "    train[k] = lbl.transform(list(train[k].values))\n",
    "    test[k] = lbl.transform(list(test[k].values))"
   ]
  },
  {
   "cell_type": "code",
   "execution_count": 12,
   "metadata": {
    "collapsed": false
   },
   "outputs": [
    {
     "name": "stdout",
     "output_type": "stream",
     "text": [
      "['PersonalField84', 'PropertyField29'] ['PersonalField84', 'PropertyField29']\n",
      "(260753, 300) (173836, 300)\n"
     ]
    }
   ],
   "source": [
    "convert_date(train)\n",
    "convert_field10(train)\n",
    "convert_date(test)\n",
    "convert_field10(test)\n",
    "y = train['QuoteConversion_Flag']\n",
    "x = train.select_dtypes(include = ['int16', 'int32', 'int64', 'float16', 'float32', 'float64'])\n",
    "xt = test.select_dtypes(include = ['int16', 'int32', 'int64', 'float16', 'float32', 'float64'])\n",
    "x = x.drop('QuoteConversion_Flag',axis= 1)\n",
    "print check_na(x), check_na(xt)\n",
    "print x.shape, xt.shape"
   ]
  },
  {
   "cell_type": "code",
   "execution_count": 13,
   "metadata": {
    "collapsed": false
   },
   "outputs": [
    {
     "name": "stderr",
     "output_type": "stream",
     "text": [
      "/Users/itbwtw/anaconda/lib/python2.7/site-packages/pandas/core/indexing.py:415: SettingWithCopyWarning: \n",
      "A value is trying to be set on a copy of a slice from a DataFrame.\n",
      "Try using .loc[row_indexer,col_indexer] = value instead\n",
      "\n",
      "See the the caveats in the documentation: http://pandas.pydata.org/pandas-docs/stable/indexing.html#indexing-view-versus-copy\n",
      "  self.obj[item] = s\n"
     ]
    }
   ],
   "source": [
    "fill_PersonalField84(x)\n",
    "fill_PersonalField84(xt)\n",
    "fill_PropertyField29(x)\n",
    "fill_PropertyField29(xt)"
   ]
  },
  {
   "cell_type": "code",
   "execution_count": 14,
   "metadata": {
    "collapsed": true
   },
   "outputs": [],
   "source": [
    "x_train, x_test, y_train, y_test = train_test_split(x, y, test_size=0.5)"
   ]
  },
  {
   "cell_type": "code",
   "execution_count": 15,
   "metadata": {
    "collapsed": false
   },
   "outputs": [
    {
     "name": "stdout",
     "output_type": "stream",
     "text": [
      "(130376, 300) (130377, 300) (130376,) (130377,)\n"
     ]
    }
   ],
   "source": [
    "print x_train.shape, x_test.shape, y_train.shape, y_test.shape\n"
   ]
  },
  {
   "cell_type": "code",
   "execution_count": 16,
   "metadata": {
    "collapsed": true
   },
   "outputs": [],
   "source": [
    "x_train, x_train_lr, y_train, y_train_lr = train_test_split(x_train,y_train,test_size=0.5)"
   ]
  },
  {
   "cell_type": "code",
   "execution_count": 17,
   "metadata": {
    "collapsed": false
   },
   "outputs": [
    {
     "name": "stdout",
     "output_type": "stream",
     "text": [
      "(65188, 300) (65188,) (65188, 300) (65188,)\n"
     ]
    }
   ],
   "source": [
    "print x_train.shape, y_train.shape, x_train_lr.shape, y_train_lr.shape"
   ]
  },
  {
   "cell_type": "code",
   "execution_count": 18,
   "metadata": {
    "collapsed": false
   },
   "outputs": [],
   "source": [
    "params = {'n_estimators': 100, 'max_leaf_nodes': 4, 'max_depth': None, 'random_state': 2,\n",
    "          'min_samples_split': 5, 'learning_rate': 0.1, 'subsample': 0.5}\n",
    "gb = GradientBoostingClassifier(**params)\n",
    "gb_encoder = preprocessing.OneHotEncoder()\n",
    "lr = LogisticRegression()"
   ]
  },
  {
   "cell_type": "code",
   "execution_count": 19,
   "metadata": {
    "collapsed": false
   },
   "outputs": [
    {
     "data": {
      "text/plain": [
       "GradientBoostingClassifier(init=None, learning_rate=0.1, loss='deviance',\n",
       "              max_depth=None, max_features=None, max_leaf_nodes=4,\n",
       "              min_samples_leaf=1, min_samples_split=5,\n",
       "              min_weight_fraction_leaf=0.0, n_estimators=100,\n",
       "              presort='auto', random_state=2, subsample=0.5, verbose=0,\n",
       "              warm_start=False)"
      ]
     },
     "execution_count": 19,
     "metadata": {},
     "output_type": "execute_result"
    }
   ],
   "source": [
    "gb.fit(x_train, y_train)"
   ]
  },
  {
   "cell_type": "code",
   "execution_count": 20,
   "metadata": {
    "collapsed": false
   },
   "outputs": [
    {
     "data": {
      "text/plain": [
       "OneHotEncoder(categorical_features='all', dtype=<type 'float'>,\n",
       "       handle_unknown='error', n_values='auto', sparse=True)"
      ]
     },
     "execution_count": 20,
     "metadata": {},
     "output_type": "execute_result"
    }
   ],
   "source": [
    "gb_encoder.fit(gb.apply(x_train)[:, :, 0])"
   ]
  },
  {
   "cell_type": "code",
   "execution_count": 21,
   "metadata": {
    "collapsed": false,
    "scrolled": true
   },
   "outputs": [
    {
     "data": {
      "text/plain": [
       "LogisticRegression(C=1.0, class_weight=None, dual=False, fit_intercept=True,\n",
       "          intercept_scaling=1, max_iter=100, multi_class='ovr', n_jobs=1,\n",
       "          penalty='l2', random_state=None, solver='liblinear', tol=0.0001,\n",
       "          verbose=0, warm_start=False)"
      ]
     },
     "execution_count": 21,
     "metadata": {},
     "output_type": "execute_result"
    }
   ],
   "source": [
    "lr.fit(gb_encoder.transform(gb.apply(x_train_lr)[:, :, 0]), y_train_lr)"
   ]
  },
  {
   "cell_type": "code",
   "execution_count": 22,
   "metadata": {
    "collapsed": true
   },
   "outputs": [],
   "source": [
    "yhat = lr.predict_proba(gb_encoder.transform(gb.apply(x_test)[:, :, 0]))[:,1]"
   ]
  },
  {
   "cell_type": "code",
   "execution_count": 23,
   "metadata": {
    "collapsed": true
   },
   "outputs": [],
   "source": [
    "yhat2 = gb.predict_proba(x_test)[:,1]"
   ]
  },
  {
   "cell_type": "code",
   "execution_count": 24,
   "metadata": {
    "collapsed": false
   },
   "outputs": [
    {
     "data": {
      "text/plain": [
       "RandomForestClassifier(bootstrap=True, class_weight=None, criterion='gini',\n",
       "            max_depth=None, max_features='auto', max_leaf_nodes=None,\n",
       "            min_samples_leaf=1, min_samples_split=2,\n",
       "            min_weight_fraction_leaf=0.0, n_estimators=100, n_jobs=1,\n",
       "            oob_score=False, random_state=None, verbose=0,\n",
       "            warm_start=False)"
      ]
     },
     "execution_count": 24,
     "metadata": {},
     "output_type": "execute_result"
    }
   ],
   "source": [
    "rf = RandomForestClassifier(n_estimators=100)\n",
    "rf.fit(np.array(x_train),np.array(y_train))"
   ]
  },
  {
   "cell_type": "code",
   "execution_count": 25,
   "metadata": {
    "collapsed": true
   },
   "outputs": [],
   "source": [
    "yhat3 = rf.predict_proba(x_test)[:,1]"
   ]
  },
  {
   "cell_type": "code",
   "execution_count": 26,
   "metadata": {
    "collapsed": false
   },
   "outputs": [],
   "source": [
    "fpr_grd_lm, tpr_grd_lm, _ = roc_curve(y_test, yhat)"
   ]
  },
  {
   "cell_type": "code",
   "execution_count": 27,
   "metadata": {
    "collapsed": true
   },
   "outputs": [],
   "source": [
    "fpr_grd_lm2, tpr_grd_lm2, _ = roc_curve(y_test, yhat2)"
   ]
  },
  {
   "cell_type": "code",
   "execution_count": 28,
   "metadata": {
    "collapsed": false
   },
   "outputs": [],
   "source": [
    "fpr_grd_lm3, tpr_grd_lm3, _ = roc_curve(y_test, yhat3)"
   ]
  },
  {
   "cell_type": "code",
   "execution_count": 51,
   "metadata": {
    "collapsed": false
   },
   "outputs": [],
   "source": [
    "plt.xlim(0, 0.5)\n",
    "plt.ylim(0.9,1)\n",
    "plt.plot(fpr_grd_lm, tpr_grd_lm, label='GB + LR')\n",
    "plt.plot(fpr_grd_lm2, tpr_grd_lm2, '--',label='GB')\n",
    "plt.plot(fpr_grd_lm3, tpr_grd_lm3, '-.',label='RF')\n",
    "plt.legend(loc = 'best')\n",
    "plt.xlabel('False positive rate')\n",
    "plt.ylabel('True positive rate')\n",
    "plt.title('ROC curve')\n",
    "#plt.show()\n",
    "plt.savefig('/Users/itbwtw/Documents/Courses/CompSci 273A Machine Learning/project/latex/figure/roc.eps')"
   ]
  },
  {
   "cell_type": "code",
   "execution_count": null,
   "metadata": {
    "collapsed": true
   },
   "outputs": [],
   "source": [
    "selected_feature = beat_over_fitting([])\n",
    "x = x[selected_feature[0:23]]\n",
    "xt = xt[selected_feature[0:23]]"
   ]
  },
  {
   "cell_type": "code",
   "execution_count": null,
   "metadata": {
    "collapsed": true
   },
   "outputs": [],
   "source": [
    "pd.DataFrame(fpr_grd_lm).to_csv('data/roc.csv',index=False)"
   ]
  }
 ],
 "metadata": {
  "kernelspec": {
   "display_name": "Python 2",
   "language": "python",
   "name": "python2"
  },
  "language_info": {
   "codemirror_mode": {
    "name": "ipython",
    "version": 2
   },
   "file_extension": ".py",
   "mimetype": "text/x-python",
   "name": "python",
   "nbconvert_exporter": "python",
   "pygments_lexer": "ipython2",
   "version": "2.7.10"
  }
 },
 "nbformat": 4,
 "nbformat_minor": 0
}
